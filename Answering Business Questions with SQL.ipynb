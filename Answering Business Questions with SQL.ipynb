{
 "cells": [
  {
   "cell_type": "markdown",
   "metadata": {},
   "source": [
    "Chinook Music Store Data\n",
    "\n",
    "    Querying a database file with 12 tables and well over 100 columns. "
   ]
  },
  {
   "cell_type": "markdown",
   "metadata": {},
   "source": [
    ">This project was completed as part of a SQL Course in the DataQuest.io Certification program showing more complex queries and the requirements to complete each of them. Although the answers are filled in here the program used to run these queries versus a .db file was 'JetBrains DataGrip' with SQLite as the SQL dialect. "
   ]
  },
  {
   "cell_type": "code",
   "execution_count": 3,
   "metadata": {
    "collapsed": false
   },
   "outputs": [
    {
     "data": {
      "text/plain": [
       "'Connected: None@chinook.db'"
      ]
     },
     "execution_count": 3,
     "metadata": {},
     "output_type": "execute_result"
    }
   ],
   "source": [
    "%%capture\n",
    "%load_ext sql\n",
    "%sql sqlite:///chinook.db"
   ]
  },
  {
   "cell_type": "markdown",
   "metadata": {},
   "source": [
    ">The ask was to show all tables or views associated with this .db file. "
   ]
  },
  {
   "cell_type": "code",
   "execution_count": 4,
   "metadata": {
    "collapsed": false
   },
   "outputs": [
    {
     "name": "stdout",
     "output_type": "stream",
     "text": [
      "Done.\n"
     ]
    },
    {
     "data": {
      "text/html": [
       "<table>\n",
       "    <tr>\n",
       "        <th>name</th>\n",
       "        <th>type</th>\n",
       "    </tr>\n",
       "    <tr>\n",
       "        <td>album</td>\n",
       "        <td>table</td>\n",
       "    </tr>\n",
       "    <tr>\n",
       "        <td>artist</td>\n",
       "        <td>table</td>\n",
       "    </tr>\n",
       "    <tr>\n",
       "        <td>customer</td>\n",
       "        <td>table</td>\n",
       "    </tr>\n",
       "    <tr>\n",
       "        <td>employee</td>\n",
       "        <td>table</td>\n",
       "    </tr>\n",
       "    <tr>\n",
       "        <td>genre</td>\n",
       "        <td>table</td>\n",
       "    </tr>\n",
       "    <tr>\n",
       "        <td>invoice</td>\n",
       "        <td>table</td>\n",
       "    </tr>\n",
       "    <tr>\n",
       "        <td>invoice_line</td>\n",
       "        <td>table</td>\n",
       "    </tr>\n",
       "    <tr>\n",
       "        <td>media_type</td>\n",
       "        <td>table</td>\n",
       "    </tr>\n",
       "    <tr>\n",
       "        <td>playlist</td>\n",
       "        <td>table</td>\n",
       "    </tr>\n",
       "    <tr>\n",
       "        <td>playlist_track</td>\n",
       "        <td>table</td>\n",
       "    </tr>\n",
       "    <tr>\n",
       "        <td>track</td>\n",
       "        <td>table</td>\n",
       "    </tr>\n",
       "</table>"
      ],
      "text/plain": [
       "[('album', 'table'),\n",
       " ('artist', 'table'),\n",
       " ('customer', 'table'),\n",
       " ('employee', 'table'),\n",
       " ('genre', 'table'),\n",
       " ('invoice', 'table'),\n",
       " ('invoice_line', 'table'),\n",
       " ('media_type', 'table'),\n",
       " ('playlist', 'table'),\n",
       " ('playlist_track', 'table'),\n",
       " ('track', 'table')]"
      ]
     },
     "execution_count": 4,
     "metadata": {},
     "output_type": "execute_result"
    }
   ],
   "source": [
    "%%sql\n",
    "SELECT\n",
    "    name,\n",
    "    type\n",
    "FROM sqlite_master\n",
    "WHERE type IN (\"table\",\"view\");\n"
   ]
  },
  {
   "cell_type": "markdown",
   "metadata": {},
   "source": [
    "The ask was to create a query which would return:\n",
    "* Each Genre\n",
    "* Number of Tracks sold per Genre: \n",
    "<br>-In Absolute Numbers\n",
    "<br>-In Percentages\n",
    "<br>\n"
   ]
  },
  {
   "cell_type": "code",
   "execution_count": 8,
   "metadata": {
    "collapsed": false
   },
   "outputs": [
    {
     "name": "stdout",
     "output_type": "stream",
     "text": [
      "Done.\n"
     ]
    },
    {
     "data": {
      "text/html": [
       "<table>\n",
       "    <tr>\n",
       "        <th>genre</th>\n",
       "        <th>track_count</th>\n",
       "        <th>track_percentage</th>\n",
       "    </tr>\n",
       "    <tr>\n",
       "        <td>Rock</td>\n",
       "        <td>561.0</td>\n",
       "        <td>53.378</td>\n",
       "    </tr>\n",
       "    <tr>\n",
       "        <td>Alternative &amp; Punk</td>\n",
       "        <td>130.0</td>\n",
       "        <td>12.369</td>\n",
       "    </tr>\n",
       "    <tr>\n",
       "        <td>Metal</td>\n",
       "        <td>124.0</td>\n",
       "        <td>11.798</td>\n",
       "    </tr>\n",
       "    <tr>\n",
       "        <td>R&amp;B/Soul</td>\n",
       "        <td>53.0</td>\n",
       "        <td>5.043</td>\n",
       "    </tr>\n",
       "    <tr>\n",
       "        <td>Blues</td>\n",
       "        <td>36.0</td>\n",
       "        <td>3.425</td>\n",
       "    </tr>\n",
       "    <tr>\n",
       "        <td>Alternative</td>\n",
       "        <td>35.0</td>\n",
       "        <td>3.33</td>\n",
       "    </tr>\n",
       "    <tr>\n",
       "        <td>Latin</td>\n",
       "        <td>22.0</td>\n",
       "        <td>2.093</td>\n",
       "    </tr>\n",
       "    <tr>\n",
       "        <td>Pop</td>\n",
       "        <td>22.0</td>\n",
       "        <td>2.093</td>\n",
       "    </tr>\n",
       "    <tr>\n",
       "        <td>Hip Hop/Rap</td>\n",
       "        <td>20.0</td>\n",
       "        <td>1.903</td>\n",
       "    </tr>\n",
       "    <tr>\n",
       "        <td>Jazz</td>\n",
       "        <td>14.0</td>\n",
       "        <td>1.332</td>\n",
       "    </tr>\n",
       "    <tr>\n",
       "        <td>Easy Listening</td>\n",
       "        <td>13.0</td>\n",
       "        <td>1.237</td>\n",
       "    </tr>\n",
       "    <tr>\n",
       "        <td>Reggae</td>\n",
       "        <td>6.0</td>\n",
       "        <td>0.571</td>\n",
       "    </tr>\n",
       "    <tr>\n",
       "        <td>Electronica/Dance</td>\n",
       "        <td>5.0</td>\n",
       "        <td>0.476</td>\n",
       "    </tr>\n",
       "    <tr>\n",
       "        <td>Classical</td>\n",
       "        <td>4.0</td>\n",
       "        <td>0.381</td>\n",
       "    </tr>\n",
       "    <tr>\n",
       "        <td>Heavy Metal</td>\n",
       "        <td>3.0</td>\n",
       "        <td>0.285</td>\n",
       "    </tr>\n",
       "    <tr>\n",
       "        <td>Soundtrack</td>\n",
       "        <td>2.0</td>\n",
       "        <td>0.19</td>\n",
       "    </tr>\n",
       "    <tr>\n",
       "        <td>TV Shows</td>\n",
       "        <td>1.0</td>\n",
       "        <td>0.095</td>\n",
       "    </tr>\n",
       "</table>"
      ],
      "text/plain": [
       "[('Rock', 561.0, 53.378),\n",
       " ('Alternative & Punk', 130.0, 12.369),\n",
       " ('Metal', 124.0, 11.798),\n",
       " ('R&B/Soul', 53.0, 5.043),\n",
       " ('Blues', 36.0, 3.425),\n",
       " ('Alternative', 35.0, 3.33),\n",
       " ('Latin', 22.0, 2.093),\n",
       " ('Pop', 22.0, 2.093),\n",
       " ('Hip Hop/Rap', 20.0, 1.903),\n",
       " ('Jazz', 14.0, 1.332),\n",
       " ('Easy Listening', 13.0, 1.237),\n",
       " ('Reggae', 6.0, 0.571),\n",
       " ('Electronica/Dance', 5.0, 0.476),\n",
       " ('Classical', 4.0, 0.381),\n",
       " ('Heavy Metal', 3.0, 0.285),\n",
       " ('Soundtrack', 2.0, 0.19),\n",
       " ('TV Shows', 1.0, 0.095)]"
      ]
     },
     "execution_count": 8,
     "metadata": {},
     "output_type": "execute_result"
    }
   ],
   "source": [
    "%%sql\n",
    "\n",
    "WITH\n",
    "full_join AS\n",
    "(SELECT g2.name genre, cast(count(t2.track_id) as float) track_count\n",
    "FROM customer c\n",
    "INNER JOIN invoice i2 on c.customer_id = i2.customer_id\n",
    "INNER JOIN invoice_line il on i2.invoice_id = il.invoice_id\n",
    "INNER JOIN track t2 on il.track_id = t2.track_id\n",
    "INNER JOIN genre g2 on t2.genre_id = g2.genre_id\n",
    "WHERE c.country='USA'\n",
    "GROUP BY g2.name),\n",
    "\n",
    "for_count AS\n",
    "(SELECT count(*)\n",
    "FROM customer c\n",
    "INNER JOIN invoice i2 on c.customer_id = i2.customer_id\n",
    "INNER JOIN invoice_line il on i2.invoice_id = il.invoice_id\n",
    "INNER JOIN track t2 on il.track_id = t2.track_id\n",
    "INNER JOIN genre g2 on t2.genre_id = g2.genre_id\n",
    "WHERE c.country='USA')\n",
    "\n",
    "select full_join.genre, full_join.track_count, round(full_join.track_count/(select * from for_count)*100,3) as track_percentage\n",
    "from full_join\n",
    "order by track_percentage desc"
   ]
  },
  {
   "cell_type": "markdown",
   "metadata": {},
   "source": [
    "> The goal was to see which of four new tracks should be added with genres: Hip-Hop, Punk, Pop, Blues using top grossing genres as the decision making marker.\n",
    "\n",
    "Given these four choices and the chart above it is sensible to choose the <b>Punk, Pop, and Blues</b> songs for the store. "
   ]
  },
  {
   "cell_type": "markdown",
   "metadata": {},
   "source": [
    "The ask was to run a query which would return the full name of 'Sales Support Agents' and the dollar amounts they each managed on the records store."
   ]
  },
  {
   "cell_type": "code",
   "execution_count": 6,
   "metadata": {
    "collapsed": false
   },
   "outputs": [
    {
     "name": "stdout",
     "output_type": "stream",
     "text": [
      "Done.\n"
     ]
    },
    {
     "data": {
      "text/html": [
       "<table>\n",
       "    <tr>\n",
       "        <th>rep_name</th>\n",
       "        <th>title</th>\n",
       "        <th>sales</th>\n",
       "    </tr>\n",
       "    <tr>\n",
       "        <td>Jane Peacock</td>\n",
       "        <td>Sales Support Agent</td>\n",
       "        <td>1731.51</td>\n",
       "    </tr>\n",
       "    <tr>\n",
       "        <td>Margaret Park</td>\n",
       "        <td>Sales Support Agent</td>\n",
       "        <td>1584.0</td>\n",
       "    </tr>\n",
       "    <tr>\n",
       "        <td>Steve Johnson</td>\n",
       "        <td>Sales Support Agent</td>\n",
       "        <td>1393.92</td>\n",
       "    </tr>\n",
       "</table>"
      ],
      "text/plain": [
       "[('Jane Peacock', 'Sales Support Agent', 1731.51),\n",
       " ('Margaret Park', 'Sales Support Agent', 1584.0),\n",
       " ('Steve Johnson', 'Sales Support Agent', 1393.92)]"
      ]
     },
     "execution_count": 6,
     "metadata": {},
     "output_type": "execute_result"
    }
   ],
   "source": [
    "%%sql\n",
    "\n",
    "/* total dollar amount per sales agent */\n",
    "WITH\n",
    "rep_table AS (\n",
    "SELECT e.first_name||' '||e.last_name rep_name, e.title, round(sum(i.total), 2) sales\n",
    "FROM employee e\n",
    "INNER JOIN customer c on e.employee_id = c.support_rep_id\n",
    "INNER JOIN invoice i on c.customer_id = i.customer_id\n",
    "WHERE e.title='Sales Support Agent'\n",
    "GROUP BY rep_name\n",
    "ORDER BY sales desc\n",
    ")\n",
    "\n",
    "select * from rep_table"
   ]
  },
  {
   "cell_type": "markdown",
   "metadata": {},
   "source": [
    "The ask is to run a query where for each country it includes:\n",
    "<br> -the total number of customers\n",
    "<br> -total value of sales\n",
    "<br> -average value of sales per customer\n",
    "<br> -average order value\n",
    "<br>\n",
    "<br> There was a column which is the individual ID for the invoice assigned to each row. I summed up the amount for each invoice and created the order total in this manner. "
   ]
  },
  {
   "cell_type": "code",
   "execution_count": 11,
   "metadata": {
    "collapsed": false
   },
   "outputs": [
    {
     "name": "stdout",
     "output_type": "stream",
     "text": [
      "Done.\n"
     ]
    },
    {
     "data": {
      "text/html": [
       "<table>\n",
       "    <tr>\n",
       "        <th>country</th>\n",
       "        <th>num_customers</th>\n",
       "        <th>total_sales</th>\n",
       "        <th>avg_per_customer</th>\n",
       "        <th>average_invoice</th>\n",
       "    </tr>\n",
       "    <tr>\n",
       "        <td>USA</td>\n",
       "        <td>13</td>\n",
       "        <td>1040.49</td>\n",
       "        <td>72.27</td>\n",
       "        <td>7.23</td>\n",
       "    </tr>\n",
       "    <tr>\n",
       "        <td>Canada</td>\n",
       "        <td>8</td>\n",
       "        <td>535.59</td>\n",
       "        <td>75.24</td>\n",
       "        <td>6.27</td>\n",
       "    </tr>\n",
       "    <tr>\n",
       "        <td>Brazil</td>\n",
       "        <td>5</td>\n",
       "        <td>427.68</td>\n",
       "        <td>106.92</td>\n",
       "        <td>7.13</td>\n",
       "    </tr>\n",
       "    <tr>\n",
       "        <td>France</td>\n",
       "        <td>5</td>\n",
       "        <td>389.07</td>\n",
       "        <td>73.26</td>\n",
       "        <td>6.1</td>\n",
       "    </tr>\n",
       "    <tr>\n",
       "        <td>Germany</td>\n",
       "        <td>4</td>\n",
       "        <td>334.62</td>\n",
       "        <td>73.26</td>\n",
       "        <td>8.14</td>\n",
       "    </tr>\n",
       "    <tr>\n",
       "        <td>United Kingdom</td>\n",
       "        <td>3</td>\n",
       "        <td>245.52</td>\n",
       "        <td>79.2</td>\n",
       "        <td>8.8</td>\n",
       "    </tr>\n",
       "    <tr>\n",
       "        <td>Czech Republic</td>\n",
       "        <td>2</td>\n",
       "        <td>273.24</td>\n",
       "        <td>128.7</td>\n",
       "        <td>10.73</td>\n",
       "    </tr>\n",
       "    <tr>\n",
       "        <td>India</td>\n",
       "        <td>2</td>\n",
       "        <td>183.15</td>\n",
       "        <td>71.28</td>\n",
       "        <td>8.91</td>\n",
       "    </tr>\n",
       "    <tr>\n",
       "        <td>Portugal</td>\n",
       "        <td>2</td>\n",
       "        <td>185.13</td>\n",
       "        <td>82.17</td>\n",
       "        <td>5.14</td>\n",
       "    </tr>\n",
       "    <tr>\n",
       "        <td>Argentina</td>\n",
       "        <td>1</td>\n",
       "        <td>39.6</td>\n",
       "        <td>39.6</td>\n",
       "        <td>7.92</td>\n",
       "    </tr>\n",
       "    <tr>\n",
       "        <td>Australia</td>\n",
       "        <td>1</td>\n",
       "        <td>81.18</td>\n",
       "        <td>81.18</td>\n",
       "        <td>8.12</td>\n",
       "    </tr>\n",
       "    <tr>\n",
       "        <td>Austria</td>\n",
       "        <td>1</td>\n",
       "        <td>69.3</td>\n",
       "        <td>69.3</td>\n",
       "        <td>7.7</td>\n",
       "    </tr>\n",
       "    <tr>\n",
       "        <td>Belgium</td>\n",
       "        <td>1</td>\n",
       "        <td>60.39</td>\n",
       "        <td>60.39</td>\n",
       "        <td>8.63</td>\n",
       "    </tr>\n",
       "    <tr>\n",
       "        <td>Chile</td>\n",
       "        <td>1</td>\n",
       "        <td>97.02</td>\n",
       "        <td>97.02</td>\n",
       "        <td>7.46</td>\n",
       "    </tr>\n",
       "    <tr>\n",
       "        <td>Denmark</td>\n",
       "        <td>1</td>\n",
       "        <td>37.62</td>\n",
       "        <td>37.62</td>\n",
       "        <td>3.76</td>\n",
       "    </tr>\n",
       "    <tr>\n",
       "        <td>Finland</td>\n",
       "        <td>1</td>\n",
       "        <td>79.2</td>\n",
       "        <td>79.2</td>\n",
       "        <td>7.2</td>\n",
       "    </tr>\n",
       "    <tr>\n",
       "        <td>Hungary</td>\n",
       "        <td>1</td>\n",
       "        <td>78.21</td>\n",
       "        <td>78.21</td>\n",
       "        <td>7.82</td>\n",
       "    </tr>\n",
       "    <tr>\n",
       "        <td>Ireland</td>\n",
       "        <td>1</td>\n",
       "        <td>114.84</td>\n",
       "        <td>114.84</td>\n",
       "        <td>8.83</td>\n",
       "    </tr>\n",
       "    <tr>\n",
       "        <td>Italy</td>\n",
       "        <td>1</td>\n",
       "        <td>50.49</td>\n",
       "        <td>50.49</td>\n",
       "        <td>5.61</td>\n",
       "    </tr>\n",
       "    <tr>\n",
       "        <td>Netherlands</td>\n",
       "        <td>1</td>\n",
       "        <td>65.34</td>\n",
       "        <td>65.34</td>\n",
       "        <td>6.53</td>\n",
       "    </tr>\n",
       "    <tr>\n",
       "        <td>Norway</td>\n",
       "        <td>1</td>\n",
       "        <td>72.27</td>\n",
       "        <td>72.27</td>\n",
       "        <td>8.03</td>\n",
       "    </tr>\n",
       "    <tr>\n",
       "        <td>Poland</td>\n",
       "        <td>1</td>\n",
       "        <td>76.23</td>\n",
       "        <td>76.23</td>\n",
       "        <td>7.62</td>\n",
       "    </tr>\n",
       "    <tr>\n",
       "        <td>Spain</td>\n",
       "        <td>1</td>\n",
       "        <td>98.01</td>\n",
       "        <td>98.01</td>\n",
       "        <td>8.91</td>\n",
       "    </tr>\n",
       "    <tr>\n",
       "        <td>Sweden</td>\n",
       "        <td>1</td>\n",
       "        <td>75.24</td>\n",
       "        <td>75.24</td>\n",
       "        <td>7.52</td>\n",
       "    </tr>\n",
       "</table>"
      ],
      "text/plain": [
       "[('USA', 13, 1040.49, 72.27, 7.23),\n",
       " ('Canada', 8, 535.59, 75.24, 6.27),\n",
       " ('Brazil', 5, 427.68, 106.92, 7.13),\n",
       " ('France', 5, 389.07, 73.26, 6.1),\n",
       " ('Germany', 4, 334.62, 73.26, 8.14),\n",
       " ('United Kingdom', 3, 245.52, 79.2, 8.8),\n",
       " ('Czech Republic', 2, 273.24, 128.7, 10.73),\n",
       " ('India', 2, 183.15, 71.28, 8.91),\n",
       " ('Portugal', 2, 185.13, 82.17, 5.14),\n",
       " ('Argentina', 1, 39.6, 39.6, 7.92),\n",
       " ('Australia', 1, 81.18, 81.18, 8.12),\n",
       " ('Austria', 1, 69.3, 69.3, 7.7),\n",
       " ('Belgium', 1, 60.39, 60.39, 8.63),\n",
       " ('Chile', 1, 97.02, 97.02, 7.46),\n",
       " ('Denmark', 1, 37.62, 37.62, 3.76),\n",
       " ('Finland', 1, 79.2, 79.2, 7.2),\n",
       " ('Hungary', 1, 78.21, 78.21, 7.82),\n",
       " ('Ireland', 1, 114.84, 114.84, 8.83),\n",
       " ('Italy', 1, 50.49, 50.49, 5.61),\n",
       " ('Netherlands', 1, 65.34, 65.34, 6.53),\n",
       " ('Norway', 1, 72.27, 72.27, 8.03),\n",
       " ('Poland', 1, 76.23, 76.23, 7.62),\n",
       " ('Spain', 1, 98.01, 98.01, 8.91),\n",
       " ('Sweden', 1, 75.24, 75.24, 7.52)]"
      ]
     },
     "execution_count": 11,
     "metadata": {},
     "output_type": "execute_result"
    }
   ],
   "source": [
    "%%sql\n",
    "WITH\n",
    "     intuit AS (\n",
    "SELECT c.customer_id customer_id, \n",
    "        c.country country, \n",
    "         count(DISTINCT c.customer_id) num_customers, \n",
    "         sum(i.total) total_sales\n",
    "FROM customer c\n",
    "LEFT JOIN invoice i ON c.customer_id = i.customer_id\n",
    "GROUP BY c.country\n",
    "ORDER BY  num_customers DESC),\n",
    "\n",
    "inv_value AS (\n",
    "    SELECT c2.customer_id customer_id, \n",
    "    invoice_id, sum(inv.total) invoice_total\n",
    "    FROM invoice inv\n",
    "             LEFT JOIN customer c2 ON inv.customer_id = c2.customer_id\n",
    "    GROUP BY invoice_id\n",
    "    ORDER BY invoice_total DESC\n",
    "),\n",
    "\n",
    "inv_average AS (\n",
    "SELECT c3.customer_id customer_id, \n",
    "    sum(total) sale_per_customer\n",
    "FROM customer c3\n",
    "LEFT JOIN invoice i2 ON c3.customer_id = i2.customer_id\n",
    "GROUP BY c3.customer_id\n",
    "\n",
    "\n",
    ")\n",
    "\n",
    "SELECT country,\n",
    "        intuit.num_customers,\n",
    "        round(intuit.total_sales,2) total_sales,\n",
    "        round(avg(inv_average.sale_per_customer), 2) avg_per_customer,\n",
    "        round(avg(inv_value.invoice_total), 2) average_invoice\n",
    "FROM inv_value\n",
    "LEFT JOIN intuit ON intuit.customer_id=inv_value.customer_id\n",
    "LEFT JOIN inv_average ON intuit.customer_id=inv_average.customer_id\n",
    "GROUP BY country\n",
    "HAVING country IS NOT NULL\n",
    "ORDER BY num_customers DESC \n"
   ]
  },
  {
   "cell_type": "markdown",
   "metadata": {},
   "source": [
    "The ask for the for the cell below was to run a query which would inform us on an approximate split between buying complete albums on the store and buying individual tracks from those albums."
   ]
  },
  {
   "cell_type": "code",
   "execution_count": 32,
   "metadata": {
    "collapsed": false
   },
   "outputs": [
    {
     "name": "stdout",
     "output_type": "stream",
     "text": [
      "Done.\n"
     ]
    },
    {
     "data": {
      "text/html": [
       "<table>\n",
       "    <tr>\n",
       "        <th>bought_or_not</th>\n",
       "        <th>bought_percent</th>\n",
       "    </tr>\n",
       "    <tr>\n",
       "        <td>Album Bought</td>\n",
       "        <td>19.84</td>\n",
       "    </tr>\n",
       "    <tr>\n",
       "        <td>Album Not Bought</td>\n",
       "        <td>66.67</td>\n",
       "    </tr>\n",
       "    <tr>\n",
       "        <td>Manually Added Tracks</td>\n",
       "        <td>13.5</td>\n",
       "    </tr>\n",
       "</table>"
      ],
      "text/plain": [
       "[('Album Bought', 19.84),\n",
       " ('Album Not Bought', 66.67),\n",
       " ('Manually Added Tracks', 13.5)]"
      ]
     },
     "execution_count": 32,
     "metadata": {},
     "output_type": "execute_result"
    }
   ],
   "source": [
    "%%sql\n",
    "WITH album_main as (\n",
    "SELECT  a.album_id album_id,  count( distinct t.track_id) track_id_num\n",
    "FROM album a\n",
    "LEFT JOIN track t on a.album_id = t.album_id\n",
    "LEFT JOIN invoice_line il on t.track_id = il.track_id\n",
    "LEFT JOIN invoice i on il.invoice_id = i.invoice_id\n",
    "GROUP BY a.album_id\n",
    "\n",
    "),\n",
    "\n",
    "invoiced_as AS (\n",
    "SELECT i.invoice_id invoice_id, a.album_id album_id, count(distinct t.track_id) tracks_per_invoice\n",
    "FROM album a\n",
    "LEFT JOIN track t on a.album_id = t.album_id\n",
    "LEFT JOIN invoice_line il on t.track_id = il.track_id\n",
    "LEFT JOIN invoice i on il.invoice_id = i.invoice_id\n",
    "GROUP BY i.invoice_id\n",
    "\n",
    "order by i.invoice_id desc\n",
    "),\n",
    "\n",
    "bought_it AS (\n",
    "\n",
    "select invoiced_as.invoice_id, invoiced_as.album_id from_album, album_main.album_id album_id, album_main.track_id_num tracks_on_album, invoiced_as.tracks_per_invoice,\n",
    "       case when (tracks_per_invoice/album_main.track_id_num) - 1 > 0 then 'Manually Added Tracks'\n",
    "            when tracks_per_invoice/album_main.track_id_num < 1.0 then 'Album Not Bought'\n",
    "            when tracks_per_invoice/album_main.track_id_num = 1.0 then 'Album Bought'\n",
    "            END as bought_or_not\n",
    "from invoiced_as\n",
    "left join album_main on album_main.album_id=invoiced_as.album_id)\n",
    "\n",
    "select bought_or_not, round(cast(count(bought_or_not) as float)/(select count(*) from bought_it)*100,2) bought_percent\n",
    "from bought_it\n",
    "group by bought_or_not"
   ]
  },
  {
   "cell_type": "markdown",
   "metadata": {},
   "source": [
    "After running the query for analysis it shows that if doing away with the ability to purchase a complete album the loss in sales would be significant. \n",
    "<br>\n",
    "<br>The analysis was conducted by looking at the invoices, counting how many tracks were in the invoice, comparing that to the number of tracks in the albums we have listed. \n",
    "\n",
    "<br> <b>This gives rise to three scenarios:</b>\n",
    ">1. The amount of tracks is greater than the number in the album which means the person added individual tracks manually. This was one of the options customers had when purchasing as well. \n",
    ">2. The amount of tracks purchased in the invoice was below the amount of tracks in the album, which naturally means the complete album was not purchased. \n",
    ">3. The amount of tracks in the invoice are the same which would mean the complete album was purchased. "
   ]
  },
  {
   "cell_type": "code",
   "execution_count": null,
   "metadata": {
    "collapsed": true
   },
   "outputs": [],
   "source": []
  }
 ],
 "metadata": {
  "kernelspec": {
   "display_name": "Python 3",
   "language": "python",
   "name": "python3"
  },
  "language_info": {
   "codemirror_mode": {
    "name": "ipython",
    "version": 3
   },
   "file_extension": ".py",
   "mimetype": "text/x-python",
   "name": "python",
   "nbconvert_exporter": "python",
   "pygments_lexer": "ipython3",
   "version": "3.4.3"
  }
 },
 "nbformat": 4,
 "nbformat_minor": 2
}
